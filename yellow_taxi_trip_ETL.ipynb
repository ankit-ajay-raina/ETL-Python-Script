{
 "cells": [
  {
   "cell_type": "markdown",
   "metadata": {},
   "source": [
    "# <font color='red'> Yello Taxi Data ETL and Rolling Average Trip Time\n",
    "    \n",
    "### Author: Ankit Raina\n",
    "### Date of Creation: March 19, 2020"
   ]
  },
  {
   "cell_type": "code",
   "execution_count": 1,
   "metadata": {},
   "outputs": [],
   "source": [
    "import sqlite3\n",
    "from datetime import datetime"
   ]
  },
  {
   "cell_type": "code",
   "execution_count": 2,
   "metadata": {},
   "outputs": [],
   "source": [
    "def create_database_tables(database_name):\n",
    "    conn = sqlite3.connect(database_name)\n",
    "    c = conn.cursor()\n",
    "    \n",
    "    try:\n",
    "        # Creating table for storing info about processed files\n",
    "        c.execute('''CREATE TABLE IF NOT EXISTS FilesProcessed\n",
    "                    (\n",
    "                        ID INTEGER PRIMARY KEY AUTOINCREMENT,\n",
    "                        FileName TEXT NOT NULL\n",
    "                    )\n",
    "                    ''')\n",
    "\n",
    "        # Creating table for storing extracted data\n",
    "        c.execute('''CREATE TABLE IF NOT EXISTS YellowTaxiTrip\n",
    "                    (\n",
    "                        ID INTEGER PRIMARY KEY AUTOINCREMENT,\n",
    "                        PickupDateTime TEXT NOT NULL, \n",
    "                        DropDateTime TEXT NOT NULL,\n",
    "                        TripTimeMinutes REAL NOT NULL\n",
    "                    )\n",
    "                    ''')\n",
    "\n",
    "         # Commiting the changes\n",
    "        conn.commit()\n",
    "    except Exception as inst:\n",
    "        print(type(inst))    # the exception instance\n",
    "        print(inst.args)     # arguments stored in .args\n",
    "        print(inst) \n",
    "    finally:\n",
    "        conn.close()"
   ]
  },
  {
   "cell_type": "code",
   "execution_count": 3,
   "metadata": {},
   "outputs": [],
   "source": [
    "def get_processed_files(database_name):\n",
    "    conn = sqlite3.connect(database_name)\n",
    "    c = conn.cursor()\n",
    "    \n",
    "    result = []\n",
    "    \n",
    "    # Fetching files which have already been processed\n",
    "    try:\n",
    "        c.execute('SELECT FileName FROM FilesProcessed')\n",
    "        result = c.fetchall()\n",
    "        result = [e for l in result for e in l]\n",
    "    except Exception as inst:\n",
    "        print(type(inst))    # the exception instance\n",
    "        print(inst.args)     # arguments stored in .args\n",
    "        print(inst) \n",
    "    finally:\n",
    "        conn.close()\n",
    "    \n",
    "    return result"
   ]
  },
  {
   "cell_type": "code",
   "execution_count": 36,
   "metadata": {},
   "outputs": [],
   "source": [
    "def get_rolling_average_trip_time(database_name, rolling_average_days):\n",
    "    conn = sqlite3.connect(database_name)\n",
    "    c = conn.cursor()\n",
    "    \n",
    "    # Fetching files which have already been processed\n",
    "    try:\n",
    "        c.execute(f\"SELECT avg(TripTimeMinutes) FROM YellowTaxiTrip WHERE DropDateTime >= date('now', '-{rolling_average_days} day') AND DropDateTime <= date('now')\")\n",
    "        result,  = c.fetchone()\n",
    "        \n",
    "    except Exception as inst:\n",
    "        print(type(inst))    # the exception instance\n",
    "        print(inst.args)     # arguments stored in .args\n",
    "        print(inst) \n",
    "    finally:\n",
    "        conn.close()\n",
    "    \n",
    "    return result"
   ]
  },
  {
   "cell_type": "code",
   "execution_count": 5,
   "metadata": {},
   "outputs": [],
   "source": [
    "def insert_data_in_database(database_name, insert_query, data):\n",
    "    conn = sqlite3.connect(database_name)\n",
    "    c = conn.cursor()\n",
    "    \n",
    "    try:\n",
    "        c.executemany(insert_query, data)\n",
    "        conn.commit()\n",
    "    except Exception as inst:\n",
    "        print(type(inst))    # the exception instance\n",
    "        print(inst.args)     # arguments stored in .args\n",
    "        print(inst) \n",
    "    finally:\n",
    "        conn.close()"
   ]
  },
  {
   "cell_type": "code",
   "execution_count": 6,
   "metadata": {},
   "outputs": [],
   "source": [
    "def get_directory_file_names(directory_path):\n",
    "    from os import listdir\n",
    "    from os.path import isfile, join\n",
    "    \n",
    "    file_names = [f for f in listdir(directory_path) if isfile(join(directory_path, f))]\n",
    "    return file_names"
   ]
  },
  {
   "cell_type": "code",
   "execution_count": 7,
   "metadata": {},
   "outputs": [],
   "source": [
    "def read_data_from_file(file_path):\n",
    "    data = []\n",
    "    \n",
    "    with open(file_path, mode='r') as file:\n",
    "        # Skip the header\n",
    "        next(file)\n",
    "        \n",
    "        for line in file:\n",
    "            line_split = line.split(',')\n",
    "            \n",
    "            try:\n",
    "                pick_up_time = datetime.strptime(line_split[1],'%Y-%m-%d %H:%M:%S')\n",
    "            except ValueError:\n",
    "                pick_up_time = datetime.strptime(line_split[1],'%m/%d/%Y %H:%M')\n",
    "            \n",
    "            try:\n",
    "                drop_time = datetime.strptime(line_split[2],'%Y-%m-%d %H:%M:%S')\n",
    "            except ValueError:\n",
    "                drop_time = datetime.strptime(line_split[2],'%m/%d/%Y %H:%M')\n",
    "            \n",
    "            # Calculating Trip Time in minutes\n",
    "            trip_time_delta = (drop_time - pick_up_time)\n",
    "            trip_time_minutes = trip_time_delta.seconds/60\n",
    "            data.append((pick_up_time, drop_time, trip_time_minutes)) # Fetching Pick Up and Drop times\n",
    "    \n",
    "    return data"
   ]
  },
  {
   "cell_type": "code",
   "execution_count": 8,
   "metadata": {},
   "outputs": [],
   "source": [
    "def extract_transform_data(directory_path, database_name):\n",
    "    trip_data = []\n",
    "    \n",
    "    # Getting names of files in the given directory\n",
    "    file_names = get_directory_file_names(directory_path)\n",
    "    processed_files = get_processed_files(database_name)\n",
    "    \n",
    "    if processed_files != None:\n",
    "        file_names = list(set(file_names) - set(processed_files))\n",
    "        \n",
    "        new_files_processed = [(file_name, ) for file_name in file_names]\n",
    "        \n",
    "    for file_name in file_names:\n",
    "        file_path = directory_path + \"/\" + file_name\n",
    "        file_data = read_data_from_file(file_path)\n",
    "        trip_data.extend(file_data)\n",
    "    \n",
    "    return new_files_processed, trip_data"
   ]
  },
  {
   "cell_type": "code",
   "execution_count": 9,
   "metadata": {},
   "outputs": [],
   "source": [
    "def load_data(database_name, processed_file_data, trip_data):\n",
    "    # Inserting Info about processed files\n",
    "    insert_query = f'INSERT INTO FilesProcessed (FileName) VALUES (?)'\n",
    "    insert_data_in_database(database_name, insert_query, processed_file_data)\n",
    "    \n",
    "    # Inserting Info about Trips\n",
    "    insert_query = f'INSERT INTO YellowTaxiTrip (PickupDateTime, DropDateTime, TripTimeMinutes) VALUES (?,?,?)'\n",
    "    insert_data_in_database(database_name, insert_query, trip_data)"
   ]
  },
  {
   "cell_type": "code",
   "execution_count": 10,
   "metadata": {},
   "outputs": [],
   "source": [
    "database_name = 'yellow_taxi_trip.db'\n",
    "directory_path = 'Data'\n",
    "create_database_tables(database_name)\n",
    "# Extracting and transforming data\n",
    "file_names, trip_data = extract_transform_data(directory_path, database_name)\n",
    "# Loading Data\n",
    "load_data(database_name, file_names, trip_data)"
   ]
  },
  {
   "cell_type": "code",
   "execution_count": 37,
   "metadata": {},
   "outputs": [
    {
     "name": "stdout",
     "output_type": "stream",
     "text": [
      "45 days rolling average trip time is 0.00 minutes.\n"
     ]
    }
   ],
   "source": [
    "# 45-day rolling average trip time\n",
    "rolling_average_days = 45\n",
    "avg_trip_time = get_rolling_average_trip_time(database_name, rolling_average_days)\n",
    "    \n",
    "if avg_trip_time == None:\n",
    "    avg_trip_time = 0\n",
    "    \n",
    "print(\"45 days rolling average trip time is {:.2f} minutes.\".format(avg_trip_time))"
   ]
  },
  {
   "cell_type": "code",
   "execution_count": 38,
   "metadata": {},
   "outputs": [
    {
     "name": "stdout",
     "output_type": "stream",
     "text": [
      "450 days rolling average trip time is 17.11 minutes.\n"
     ]
    }
   ],
   "source": [
    "# 450-day rolling average trip time\n",
    "rolling_average_days = 450\n",
    "avg_trip_time = get_rolling_average_trip_time(database_name, rolling_average_days)\n",
    "    \n",
    "if avg_trip_time == None:\n",
    "    avg_trip_time = 0\n",
    "    \n",
    "print(\"450 days rolling average trip time is {:.2f} minutes.\".format(avg_trip_time))"
   ]
  },
  {
   "cell_type": "code",
   "execution_count": null,
   "metadata": {},
   "outputs": [],
   "source": []
  }
 ],
 "metadata": {
  "kernelspec": {
   "display_name": "Python 3",
   "language": "python",
   "name": "python3"
  },
  "language_info": {
   "codemirror_mode": {
    "name": "ipython",
    "version": 3
   },
   "file_extension": ".py",
   "mimetype": "text/x-python",
   "name": "python",
   "nbconvert_exporter": "python",
   "pygments_lexer": "ipython3",
   "version": "3.7.3"
  }
 },
 "nbformat": 4,
 "nbformat_minor": 4
}
